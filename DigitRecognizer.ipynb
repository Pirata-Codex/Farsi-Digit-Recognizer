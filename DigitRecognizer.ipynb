{
 "cells": [
  {
   "cell_type": "markdown",
   "metadata": {},
   "source": [
    "## In the Name of God\n",
    "<h2>Digit recogniser using Hoda Dataset\n",
    "<br>Teacher: Dr. Mohsen Hooshmand\n",
    "<br>Advanced Algorithm Course Project\n",
    "<br>Reza Khaleghi - 984118</h2>\n",
    "<br><br>Persian digits dataset: <a href=\"https://github.com/amir-saniyan/HodaDatasetReader\" target=\"_blank\">Hoda Dataset Reader</a>\n",
    "<br><b>Note: This dataset is free of charge for research purposes and non commercial uses only."
   ]
  },
  {
   "cell_type": "markdown",
   "metadata": {},
   "source": [
    "### Importing required packages"
   ]
  },
  {
   "cell_type": "code",
   "execution_count": 1,
   "metadata": {},
   "outputs": [],
   "source": [
    "import numpy as np\n",
    "from matplotlib import pyplot as plt\n",
    "from HodaDatasetReader import read_hoda_cdb, read_hoda_dataset\n",
    "import tensorflow as tf\n",
    "from tensorflow.keras.models import Sequential\n",
    "from tensorflow.keras.layers import Dense, Conv2D, Dropout, Flatten, MaxPooling2D\n",
    "from sklearn.metrics import classification_report"
   ]
  },
  {
   "cell_type": "markdown",
   "metadata": {},
   "source": [
    "### Reading from Hoda dataset"
   ]
  },
  {
   "cell_type": "code",
   "execution_count": 2,
   "metadata": {},
   "outputs": [
    {
     "name": "stdout",
     "output_type": "stream",
     "text": [
      "################################################################################\n",
      "\n",
      "Reading Train 60000.cdb ...\n",
      "Reading Test 20000.cdb ...\n",
      "type(train_images):  <class 'list'>\n",
      "len(train_images):  60000\n",
      "\n",
      "type(train_labels):  <class 'list'>\n",
      "len(train_labels):  60000\n",
      "\n",
      "----------------------------------------\n",
      "\n",
      "type(train_images[ 0 ]): <class 'numpy.ndarray'>\n",
      "train_images[ 0 ].dtype: uint8\n",
      "train_images[ 0 ].min(): 0\n",
      "train_images[ 0 ].max(): 255\n",
      "train_images[ 0 ].shape = (HEIGHT, WIDTH): (27, 20)\n",
      "\n",
      "type(train_labels[ 0 ]): <class 'int'>\n",
      "train_labels[ 0 ]: 6\n",
      "\n",
      "----------------------------------------\n",
      "\n",
      "type(train_images[ 1 ]): <class 'numpy.ndarray'>\n",
      "train_images[ 1 ].dtype: uint8\n",
      "train_images[ 1 ].min(): 0\n",
      "train_images[ 1 ].max(): 255\n",
      "train_images[ 1 ].shape = (HEIGHT, WIDTH): (20, 21)\n",
      "\n",
      "type(train_labels[ 1 ]): <class 'int'>\n",
      "train_labels[ 1 ]: 5\n",
      "\n",
      "----------------------------------------\n",
      "\n",
      "type(train_images[ 2 ]): <class 'numpy.ndarray'>\n",
      "train_images[ 2 ].dtype: uint8\n",
      "train_images[ 2 ].min(): 0\n",
      "train_images[ 2 ].max(): 255\n",
      "train_images[ 2 ].shape = (HEIGHT, WIDTH): (10, 15)\n",
      "\n",
      "type(train_labels[ 2 ]): <class 'int'>\n",
      "train_labels[ 2 ]: 0\n",
      "\n",
      "----------------------------------------\n",
      "\n",
      "type(train_images[ 3 ]): <class 'numpy.ndarray'>\n",
      "train_images[ 3 ].dtype: uint8\n",
      "train_images[ 3 ].min(): 0\n",
      "train_images[ 3 ].max(): 255\n",
      "train_images[ 3 ].shape = (HEIGHT, WIDTH): (36, 17)\n",
      "\n",
      "type(train_labels[ 3 ]): <class 'int'>\n",
      "train_labels[ 3 ]: 2\n",
      "\n"
     ]
    },
    {
     "data": {
      "image/png": "[encoded data removed]",
      "text/plain": [
       "<Figure size 1080x288 with 4 Axes>"
      ]
     },
     "metadata": {
      "needs_background": "light"
     },
     "output_type": "display_data"
    },
    {
     "name": "stdout",
     "output_type": "stream",
     "text": [
      "################################################################################\n",
      "\n",
      "Reading train dataset (Train 60000.cdb)...\n",
      "Reading test dataset (Test 20000.cdb)...\n",
      "Done\n"
     ]
    }
   ],
   "source": [
    "print('################################################################################')\n",
    "print()\n",
    "\n",
    "print('Reading Train 60000.cdb ...')\n",
    "train_images, train_labels = read_hoda_cdb('./DigitDB/Train 60000.cdb')\n",
    "\n",
    "print('Reading Test 20000.cdb ...')\n",
    "test_images, test_labels = read_hoda_cdb('./DigitDB/Test 20000.cdb')\n",
    "\n",
    "# ******************************************************************************\n",
    "\n",
    "print('type(train_images): ', type(train_images))\n",
    "print('len(train_images): ', len(train_images))\n",
    "print()\n",
    "\n",
    "print('type(train_labels): ', type(train_labels))\n",
    "print('len(train_labels): ', len(train_labels))\n",
    "print()\n",
    "\n",
    "fig = plt.figure(figsize=(15, 4))\n",
    "for i in range(4):\n",
    "\n",
    "    print('----------------------------------------')\n",
    "    print()\n",
    "\n",
    "    print('type(train_images[', i, ']):', type(train_images[i]))\n",
    "    print('train_images[', i, '].dtype:', train_images[i].dtype)\n",
    "    print('train_images[', i, '].min():', train_images[i].min())\n",
    "    print('train_images[', i, '].max():', train_images[i].max())\n",
    "    print('train_images[', i, '].shape = (HEIGHT, WIDTH):', train_images[i].shape)\n",
    "    print()\n",
    "\n",
    "    print('type(train_labels[', i, ']):', type(train_labels[i]))\n",
    "    print('train_labels[', i, ']:', train_labels[i])\n",
    "    print()\n",
    "\n",
    "    fig.add_subplot(1, 4, i + 1)\n",
    "    plt.title('train_labels[' + str(i) + '] = ' + str(train_labels[i]))\n",
    "    plt.imshow(train_images[i], cmap='gray')\n",
    "\n",
    "plt.show()\n",
    "\n",
    "print('################################################################################')\n",
    "print()\n",
    "\n",
    "print('Reading train dataset (Train 60000.cdb)...')\n",
    "x_train, y_train = read_hoda_dataset(dataset_path='./DigitDB/Train 60000.cdb',\n",
    "                                images_height=32,\n",
    "                                images_width=32,\n",
    "                                one_hot=False,\n",
    "                                reshape=True)\n",
    "\n",
    "print('Reading test dataset (Test 20000.cdb)...')\n",
    "x_test, y_test = read_hoda_dataset(dataset_path='./DigitDB/Test 20000.cdb',\n",
    "                              images_height=32,\n",
    "                              images_width=32,\n",
    "                              one_hot=True,\n",
    "                              reshape=False)\n",
    "print(\"Done\")"
   ]
  },
  {
   "cell_type": "markdown",
   "metadata": {},
   "source": [
    "<b>Checking if the dataset imported correctly"
   ]
  },
  {
   "cell_type": "code",
   "execution_count": 3,
   "metadata": {},
   "outputs": [
    {
     "name": "stdout",
     "output_type": "stream",
     "text": [
      "7.0\n"
     ]
    },
    {
     "data": {
      "text/plain": [
       "<matplotlib.image.AxesImage at 0x246fdad8a08>"
      ]
     },
     "execution_count": 3,
     "metadata": {},
     "output_type": "execute_result"
    },
    {
     "data": {
      "image/png": "[encoded data removed]",
      "text/plain": [
       "<Figure size 432x288 with 1 Axes>"
      ]
     },
     "metadata": {
      "needs_background": "light"
     },
     "output_type": "display_data"
    }
   ],
   "source": [
    "image_index = 7777 # You may select anything up to 60,000\n",
    "print(y_train[image_index]) # The label is 7\n",
    "plt.imshow(train_images[image_index], cmap='gray')"
   ]
  },
  {
   "cell_type": "code",
   "execution_count": 4,
   "metadata": {},
   "outputs": [
    {
     "name": "stdout",
     "output_type": "stream",
     "text": [
      "x_train shape: (60000, 32, 32, 1)\n",
      "Number of images in x_train 60000\n",
      "Number of images in x_test 20000\n"
     ]
    }
   ],
   "source": [
    "# Reshaping the array to 4-dims so that it can work with the Keras API\n",
    "x_train = x_train.reshape(x_train.shape[0], 32, 32, 1)\n",
    "x_test = x_test.reshape(x_test.shape[0], 32, 32, 1)\n",
    "input_shape = (32, 32, 1)\n",
    "# Making sure that the values are float so that we can get decimal points after division\n",
    "x_train = x_train.astype('float32')\n",
    "x_test = x_test.astype('float32')\n",
    "# Normalizing the RGB codes by dividing it to the max RGB value. changing the range from 0-255 to 0-1\n",
    "x_train /= 255\n",
    "x_test /= 255\n",
    "\n",
    "print('x_train shape:', x_train.shape)\n",
    "print('Number of images in x_train', x_train.shape[0])\n",
    "print('Number of images in x_test', x_test.shape[0])"
   ]
  },
  {
   "cell_type": "code",
   "execution_count": 5,
   "metadata": {},
   "outputs": [],
   "source": [
    "# Creating a Sequential Model and adding the layers\n",
    "model = []\n",
    "model.append(Sequential())\n",
    "model.append(Sequential())\n",
    "model.append(Sequential())\n",
    "model.append(Sequential())\n",
    "\n",
    "dropout = [0.1,0.2,0.5,0.8]\n",
    "for i in range(4):\n",
    "    model[i].add(Conv2D(28, kernel_size=(3,3), input_shape=input_shape))\n",
    "    model[i].add(MaxPooling2D(pool_size=(2, 2)))\n",
    "    model[i].add(Flatten()) # Flattening the 2D arrays for fully connected layers\n",
    "    model[i].add(Dense(128, activation=tf.nn.relu))\n",
    "    model[i].add(Dropout(dropout[i]))\n",
    "    model[i].add(Dense(10,activation=tf.nn.softmax))"
   ]
  },
  {
   "cell_type": "markdown",
   "metadata": {},
   "source": [
    "<b>Fitting the model with 10 epochs.\n",
    "<br>Note: Increasing epochs will increase accuracy but also increases processing time"
   ]
  },
  {
   "cell_type": "code",
   "execution_count": 6,
   "metadata": {},
   "outputs": [
    {
     "name": "stdout",
     "output_type": "stream",
     "text": [
      "Epoch 1/10\n",
      "1875/1875 [==============================] - 14s 8ms/step - loss: 0.3613 - accuracy: 0.8970\n",
      "Epoch 2/10\n",
      "1875/1875 [==============================] - 14s 7ms/step - loss: 0.0959 - accuracy: 0.9720\n",
      "Epoch 3/10\n",
      "1875/1875 [==============================] - 13s 7ms/step - loss: 0.0601 - accuracy: 0.9829\n",
      "Epoch 4/10\n",
      "1875/1875 [==============================] - 13s 7ms/step - loss: 0.0452 - accuracy: 0.9863\n",
      "Epoch 5/10\n",
      "1875/1875 [==============================] - 13s 7ms/step - loss: 0.0374 - accuracy: 0.9882\n",
      "Epoch 6/10\n",
      "1875/1875 [==============================] - 13s 7ms/step - loss: 0.0306 - accuracy: 0.9902\n",
      "Epoch 7/10\n",
      "1875/1875 [==============================] - 13s 7ms/step - loss: 0.0283 - accuracy: 0.9909\n",
      "Epoch 8/10\n",
      "1875/1875 [==============================] - 13s 7ms/step - loss: 0.0232 - accuracy: 0.9924\n",
      "Epoch 9/10\n",
      "1875/1875 [==============================] - 13s 7ms/step - loss: 0.0216 - accuracy: 0.9930\n",
      "Epoch 10/10\n",
      "1875/1875 [==============================] - 13s 7ms/step - loss: 0.0194 - accuracy: 0.9936\n",
      "Epoch 1/10\n",
      "1875/1875 [==============================] - 14s 7ms/step - loss: 0.3620 - accuracy: 0.9012\n",
      "Epoch 2/10\n",
      "1875/1875 [==============================] - 14s 7ms/step - loss: 0.0990 - accuracy: 0.9712\n",
      "Epoch 3/10\n",
      "1875/1875 [==============================] - 13s 7ms/step - loss: 0.0681 - accuracy: 0.9808\n",
      "Epoch 4/10\n",
      "1875/1875 [==============================] - 13s 7ms/step - loss: 0.0535 - accuracy: 0.9844\n",
      "Epoch 5/10\n",
      "1875/1875 [==============================] - 13s 7ms/step - loss: 0.0454 - accuracy: 0.9870\n",
      "Epoch 6/10\n",
      "1875/1875 [==============================] - 13s 7ms/step - loss: 0.0373 - accuracy: 0.9885\n",
      "Epoch 7/10\n",
      "1875/1875 [==============================] - 13s 7ms/step - loss: 0.0353 - accuracy: 0.9889\n",
      "Epoch 8/10\n",
      "1875/1875 [==============================] - 12s 7ms/step - loss: 0.0299 - accuracy: 0.9906\n",
      "Epoch 9/10\n",
      "1875/1875 [==============================] - 13s 7ms/step - loss: 0.0284 - accuracy: 0.9905\n",
      "Epoch 10/10\n",
      "1875/1875 [==============================] - 13s 7ms/step - loss: 0.0238 - accuracy: 0.9922\n",
      "Epoch 1/10\n",
      "1875/1875 [==============================] - 13s 7ms/step - loss: 0.3851 - accuracy: 0.8893\n",
      "Epoch 2/10\n",
      "1875/1875 [==============================] - 13s 7ms/step - loss: 0.1267 - accuracy: 0.9637\n",
      "Epoch 3/10\n",
      "1875/1875 [==============================] - 13s 7ms/step - loss: 0.1000 - accuracy: 0.9722\n",
      "Epoch 4/10\n",
      "1875/1875 [==============================] - 13s 7ms/step - loss: 0.0855 - accuracy: 0.9757\n",
      "Epoch 5/10\n",
      "1875/1875 [==============================] - 13s 7ms/step - loss: 0.0773 - accuracy: 0.9784\n",
      "Epoch 6/10\n",
      "1875/1875 [==============================] - 13s 7ms/step - loss: 0.0735 - accuracy: 0.9788\n",
      "Epoch 7/10\n",
      "1875/1875 [==============================] - 13s 7ms/step - loss: 0.0676 - accuracy: 0.9801\n",
      "Epoch 8/10\n",
      "1875/1875 [==============================] - 13s 7ms/step - loss: 0.0627 - accuracy: 0.9817\n",
      "Epoch 9/10\n",
      "1875/1875 [==============================] - 13s 7ms/step - loss: 0.0612 - accuracy: 0.9820\n",
      "Epoch 10/10\n",
      "1875/1875 [==============================] - 13s 7ms/step - loss: 0.0574 - accuracy: 0.9827\n",
      "Epoch 1/10\n",
      "1875/1875 [==============================] - 13s 7ms/step - loss: 0.5806 - accuracy: 0.8242\n",
      "Epoch 2/10\n",
      "1875/1875 [==============================] - 13s 7ms/step - loss: 0.2667 - accuracy: 0.9230\n",
      "Epoch 3/10\n",
      "1875/1875 [==============================] - 13s 7ms/step - loss: 0.2393 - accuracy: 0.9290\n",
      "Epoch 4/10\n",
      "1875/1875 [==============================] - 14s 7ms/step - loss: 0.2210 - accuracy: 0.9350\n",
      "Epoch 5/10\n",
      "1875/1875 [==============================] - 14s 7ms/step - loss: 0.2141 - accuracy: 0.9360\n",
      "Epoch 6/10\n",
      "1875/1875 [==============================] - 13s 7ms/step - loss: 0.2072 - accuracy: 0.9378\n",
      "Epoch 7/10\n",
      "1875/1875 [==============================] - 13s 7ms/step - loss: 0.2054 - accuracy: 0.9375\n",
      "Epoch 8/10\n",
      "1875/1875 [==============================] - 13s 7ms/step - loss: 0.1986 - accuracy: 0.9415\n",
      "Epoch 9/10\n",
      "1875/1875 [==============================] - 13s 7ms/step - loss: 0.1940 - accuracy: 0.9425\n",
      "Epoch 10/10\n",
      "1875/1875 [==============================] - 13s 7ms/step - loss: 0.1882 - accuracy: 0.9435\n"
     ]
    }
   ],
   "source": [
    "for i in range(4):\n",
    "    model[i].compile(optimizer='adam', loss='sparse_categorical_crossentropy', metrics=['accuracy'])\n",
    "    model[i].fit(x=x_train,y=y_train, epochs=10)"
   ]
  },
  {
   "cell_type": "code",
   "execution_count": 7,
   "metadata": {},
   "outputs": [],
   "source": [
    "lst = []\n",
    "for i in y_test:\n",
    "    for j in range(10):\n",
    "        if i[j] == 1:\n",
    "            lst.append(j)\n",
    "final_y_test = np.array(lst)"
   ]
  },
  {
   "cell_type": "markdown",
   "metadata": {},
   "source": [
    "<b>Change the \"image_index\" variable amount in the range of test to show the predicted (here the test set range is between 0-19999)"
   ]
  },
  {
   "cell_type": "code",
   "execution_count": 9,
   "metadata": {},
   "outputs": [
    {
     "name": "stdout",
     "output_type": "stream",
     "text": [
      "Predicted label: 6 \n",
      "With the probability of 0.9999989\n",
      "Predicted label: 6 \n",
      "With the probability of 0.9999999\n",
      "Predicted label: 6 \n",
      "With the probability of 0.9999665\n",
      "Predicted label: 6 \n",
      "With the probability of 0.99997735\n"
     ]
    },
    {
     "data": {
      "image/png": "[encoded data removed]",
      "text/plain": [
       "<Figure size 432x288 with 1 Axes>"
      ]
     },
     "metadata": {
      "needs_background": "light"
     },
     "output_type": "display_data"
    }
   ],
   "source": [
    "image_index = 12111\n",
    "plt.imshow(x_test[image_index].reshape(32, 32),cmap='Greys')\n",
    "for i in range(4):\n",
    "    pred = model[i].predict(x_test[image_index].reshape(1, 32, 32, 1))\n",
    "    # Maximum probability\n",
    "    print(\"Predicted label:\",pred.argmax(),\"\\nWith the probability of\",pred[0][pred.argmax()])"
   ]
  },
  {
   "cell_type": "code",
   "execution_count": 10,
   "metadata": {},
   "outputs": [
    {
     "name": "stdout",
     "output_type": "stream",
     "text": [
      "Model 0\n",
      "157/157 [==============================] - 1s 7ms/step - loss: 0.0791 - accuracy: 0.9809\n",
      "WARNING:tensorflow:5 out of the last 5 calls to <function Model.make_predict_function.<locals>.predict_function at 0x000002468C57ED38> triggered tf.function retracing. Tracing is expensive and the excessive number of tracings could be due to (1) creating @tf.function repeatedly in a loop, (2) passing tensors with different shapes, (3) passing Python objects instead of tensors. For (1), please define your @tf.function outside of the loop. For (2), @tf.function has experimental_relax_shapes=True option that relaxes argument shapes that can avoid unnecessary retracing. For (3), please refer to https://www.tensorflow.org/tutorials/customization/performance#python_or_tensor_args and https://www.tensorflow.org/api_docs/python/tf/function for  more details.\n",
      "+++++++++++++++++++++++++++++++++++++++++++++++++++++++\n",
      "Model 1\n",
      "157/157 [==============================] - 1s 7ms/step - loss: 0.0805 - accuracy: 0.9791\n",
      "+++++++++++++++++++++++++++++++++++++++++++++++++++++++\n",
      "Model 2\n",
      "157/157 [==============================] - 1s 8ms/step - loss: 0.0864 - accuracy: 0.9758\n",
      "+++++++++++++++++++++++++++++++++++++++++++++++++++++++\n",
      "Model 3\n",
      "157/157 [==============================] - 1s 8ms/step - loss: 0.1607 - accuracy: 0.9557\n",
      "+++++++++++++++++++++++++++++++++++++++++++++++++++++++\n"
     ]
    }
   ],
   "source": [
    "y_pred = []\n",
    "for i in range(4):\n",
    "    print(\"Model\",i)\n",
    "    results = model[i].evaluate(x_test,final_y_test,batch_size=128)\n",
    "    y_pred.append(model[i].predict(x_test))\n",
    "    print(\"+++++++++++++++++++++++++++++++++++++++++++++++++++++++\")"
   ]
  },
  {
   "cell_type": "code",
   "execution_count": 12,
   "metadata": {},
   "outputs": [
    {
     "name": "stdout",
     "output_type": "stream",
     "text": [
      "              precision    recall  f1-score   support\n",
      "\n",
      "           0       1.00      0.99      0.99      2000\n",
      "           1       0.97      1.00      0.98      2000\n",
      "           2       0.94      0.99      0.96      2000\n",
      "           3       0.98      0.94      0.96      2000\n",
      "           4       0.97      0.98      0.97      2000\n",
      "           5       0.98      0.99      0.99      2000\n",
      "           6       0.99      0.98      0.98      2000\n",
      "           7       0.99      0.99      0.99      2000\n",
      "           8       0.99      0.99      0.99      2000\n",
      "           9       0.99      0.97      0.98      2000\n",
      "\n",
      "    accuracy                           0.98     20000\n",
      "   macro avg       0.98      0.98      0.98     20000\n",
      "weighted avg       0.98      0.98      0.98     20000\n",
      "\n",
      "              precision    recall  f1-score   support\n",
      "\n",
      "           0       0.99      0.99      0.99      2000\n",
      "           1       0.97      1.00      0.98      2000\n",
      "           2       0.94      0.98      0.96      2000\n",
      "           3       0.97      0.94      0.95      2000\n",
      "           4       0.98      0.96      0.97      2000\n",
      "           5       0.99      0.98      0.99      2000\n",
      "           6       0.98      0.98      0.98      2000\n",
      "           7       0.99      0.99      0.99      2000\n",
      "           8       0.99      0.99      0.99      2000\n",
      "           9       0.99      0.97      0.98      2000\n",
      "\n",
      "    accuracy                           0.98     20000\n",
      "   macro avg       0.98      0.98      0.98     20000\n",
      "weighted avg       0.98      0.98      0.98     20000\n",
      "\n",
      "              precision    recall  f1-score   support\n",
      "\n",
      "           0       0.99      0.99      0.99      2000\n",
      "           1       0.97      1.00      0.98      2000\n",
      "           2       0.95      0.96      0.96      2000\n",
      "           3       0.96      0.94      0.95      2000\n",
      "           4       0.96      0.96      0.96      2000\n",
      "           5       0.98      0.99      0.98      2000\n",
      "           6       0.97      0.98      0.98      2000\n",
      "           7       0.99      0.98      0.99      2000\n",
      "           8       0.99      0.99      0.99      2000\n",
      "           9       0.98      0.96      0.97      2000\n",
      "\n",
      "    accuracy                           0.98     20000\n",
      "   macro avg       0.98      0.98      0.98     20000\n",
      "weighted avg       0.98      0.98      0.98     20000\n",
      "\n",
      "              precision    recall  f1-score   support\n",
      "\n",
      "           0       0.99      0.98      0.98      2000\n",
      "           1       0.96      0.99      0.97      2000\n",
      "           2       0.91      0.93      0.92      2000\n",
      "           3       0.91      0.90      0.91      2000\n",
      "           4       0.93      0.93      0.93      2000\n",
      "           5       0.97      0.98      0.98      2000\n",
      "           6       0.96      0.95      0.96      2000\n",
      "           7       0.98      0.97      0.98      2000\n",
      "           8       0.99      0.97      0.98      2000\n",
      "           9       0.96      0.96      0.96      2000\n",
      "\n",
      "    accuracy                           0.96     20000\n",
      "   macro avg       0.96      0.96      0.96     20000\n",
      "weighted avg       0.96      0.96      0.96     20000\n",
      "\n"
     ]
    }
   ],
   "source": [
    "for j in range(4):\n",
    "    converted_y_pred = []\n",
    "    for i in y_pred[j]:\n",
    "        converted_y_pred.append(np.argmax(i))\n",
    "    final_y_pred = np.array(converted_y_pred)\n",
    "    print(classification_report(final_y_test,final_y_pred))"
   ]
  },
  {
   "cell_type": "code",
   "execution_count": null,
   "metadata": {},
   "outputs": [],
   "source": []
  }
 ],
 "metadata": {
  "kernelspec": {
   "display_name": "Python 3",
   "language": "python",
   "name": "python3"
  },
  "language_info": {
   "codemirror_mode": {
    "name": "ipython",
    "version": 3
   },
   "file_extension": ".py",
   "mimetype": "text/x-python",
   "name": "python",
   "nbconvert_exporter": "python",
   "pygments_lexer": "ipython3",
   "version": "3.7.6"
  }
 },
 "nbformat": 4,
 "nbformat_minor": 2
}
